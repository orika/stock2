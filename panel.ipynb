{
 "cells": [
  {
   "cell_type": "code",
   "execution_count": 6,
   "metadata": {},
   "outputs": [
    {
     "name": "stdout",
     "output_type": "stream",
     "text": [
      "{'Item1':           0         1         2\n",
      "0 -1.383224  0.357629  0.339747\n",
      "1 -1.338472 -0.350531  1.228253\n",
      "2  1.000695 -2.236166  1.046086\n",
      "3 -1.178342  0.548987  0.612770, 'Item2':           0         1\n",
      "0  0.608053 -0.503102\n",
      "1  0.652303 -0.769260\n",
      "2  0.346696 -0.194058\n",
      "3 -1.388738  1.165589}\n",
      "                Item1     Item2\n",
      "major minor                    \n",
      "0     0     -1.383224  0.608053\n",
      "      1      0.357629 -0.503102\n",
      "1     0     -1.338472  0.652303\n",
      "      1     -0.350531 -0.769260\n",
      "2     0      1.000695  0.346696\n",
      "      1     -2.236166 -0.194058\n",
      "3     0     -1.178342 -1.388738\n",
      "      1      0.548987  1.165589\n",
      "          0         1         2\n",
      "0 -1.383224  0.357629  0.339747\n",
      "1 -1.338472 -0.350531  1.228253\n",
      "2  1.000695 -2.236166  1.046086\n",
      "3 -1.178342  0.548987  0.612770\n"
     ]
    }
   ],
   "source": [
    "# creating an empty panel\n",
    "import pandas as pd\n",
    "import numpy as np\n",
    "\n",
    "data = np.random.rand(2,4,5)\n",
    "\n",
    "# print(data)\n",
    "\n",
    "p = pd.Panel(data)\n",
    "# print(p.to_frame())\n",
    "\n",
    "\n",
    "data = {'Item1' : pd.DataFrame(np.random.randn(4, 3)), \n",
    "        'Item2' : pd.DataFrame(np.random.randn(4, 2))}\n",
    "\n",
    "print(data)\n",
    "p = pd.Panel(data)\n",
    "print(p.to_frame())\n",
    "\n",
    "print(p['Item1'])"
   ]
  },
  {
   "cell_type": "code",
   "execution_count": null,
   "metadata": {},
   "outputs": [],
   "source": []
  }
 ],
 "metadata": {
  "kernelspec": {
   "display_name": "Python 3",
   "language": "python",
   "name": "python3"
  },
  "language_info": {
   "codemirror_mode": {
    "name": "ipython",
    "version": 3
   },
   "file_extension": ".py",
   "mimetype": "text/x-python",
   "name": "python",
   "nbconvert_exporter": "python",
   "pygments_lexer": "ipython3",
   "version": "3.7.3"
  }
 },
 "nbformat": 4,
 "nbformat_minor": 2
}
