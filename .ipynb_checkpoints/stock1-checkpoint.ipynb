{
 "cells": [
  {
   "cell_type": "code",
   "execution_count": 3,
   "metadata": {},
   "outputs": [
    {
     "name": "stdout",
     "output_type": "stream",
     "text": [
      "0\n",
      "1\n",
      "2\n",
      "3\n",
      "4\n"
     ]
    }
   ],
   "source": [
    "stock_pool = ['603912.SH', '300666.SZ', '300618.SZ', '002049.SZ', '300672.SZ']\n",
    "for x in range(len(stock_pool)):\n",
    "    print(x)"
   ]
  },
  {
   "cell_type": "code",
   "execution_count": 9,
   "metadata": {},
   "outputs": [
    {
     "name": "stdout",
     "output_type": "stream",
     "text": [
      "('603912.SH','300666.SZ','300618.SZ','002049.SZ','300672.SZ')\n"
     ]
    }
   ],
   "source": [
    "in_str = '('\n",
    "stock_pool = ['603912.SH', '300666.SZ', '300618.SZ', '002049.SZ', '300672.SZ']\n",
    "for x in range(len(stock_pool)):\n",
    "    if x != len(stock_pool)-1:\n",
    "        in_str += str('\\'') + str(stock_pool[x])+str('\\',')\n",
    "    else:\n",
    "        in_str += str('\\'') + str(stock_pool[x]) + str('\\')')\n",
    "print(in_str)"
   ]
  },
  {
   "cell_type": "code",
   "execution_count": 19,
   "metadata": {},
   "outputs": [
    {
     "name": "stdout",
     "output_type": "stream",
     "text": [
      "========print(df)=========\n",
      "   one  two\n",
      "a  1.0   10\n",
      "b  2.0   20\n",
      "c  3.0   39\n",
      "d  NaN   40\n",
      "e  NaN   50\n",
      "========print(df.shape)=========\n",
      "5\n",
      "========print(df.iloc[2])=========\n",
      "one     3.0\n",
      "two    39.0\n",
      "Name: c, dtype: float64\n",
      "========print(df.iloc[2:4])=========\n",
      "   one  two\n",
      "c  3.0   39\n",
      "d  NaN   40\n",
      "========print(df.iloc[:, 1])=========\n",
      "a    10\n",
      "b    20\n",
      "c    39\n",
      "d    40\n",
      "e    50\n",
      "Name: two, dtype: int64\n",
      "========print(df.iloc[1, 0])=========\n",
      "2.0\n"
     ]
    }
   ],
   "source": [
    "import pandas as pd\n",
    "\n",
    "d = {'one' : pd.Series([1, 2, 3], index=['a', 'b', 'c']),\n",
    "     'two' : pd.Series([10, 20, 39, 40,50], index=['a', 'b', 'c', 'd','e'])}\n",
    "\n",
    "\n",
    "df = pd.DataFrame(d)\n",
    "\n",
    "print('========print(df)=========')\n",
    "print(df)\n",
    "\n",
    "print('========print(df.shape)=========')\n",
    "print(df.shape[0])\n",
    "\n",
    "\n",
    "# 选择行\n",
    "print('========print(df.iloc[2])=========')\n",
    "print(df.iloc[2])\n",
    "\n",
    "# 行切片\n",
    "print('========print(df.iloc[2:4])=========')\n",
    "print(df.iloc[2:4])\n",
    "\n",
    "# 取行列 ':'取所有行，1取第2列\n",
    "print('========print(df.iloc[:, 1])=========')\n",
    "print(df.iloc[:, 1])\n",
    "\n",
    "# 取第二行，第1列\n",
    "print('========print(df.iloc[1, 0])=========')\n",
    "print(df.iloc[1, 0])"
   ]
  },
  {
   "cell_type": "code",
   "execution_count": 6,
   "metadata": {},
   "outputs": [
    {
     "name": "stdout",
     "output_type": "stream",
     "text": [
      "2\n",
      "range(11, 10)\n",
      "range(1, 2)\n"
     ]
    }
   ],
   "source": [
    "\n",
    "date_seq = ['2019-01-02', '2019-01-03']\n",
    "\n",
    "print(len(date_seq))\n",
    "\n",
    "print(range(11,10))\n",
    "\n",
    "print(range(1,len(date_seq)))\n"
   ]
  },
  {
   "cell_type": "code",
   "execution_count": 32,
   "metadata": {},
   "outputs": [
    {
     "name": "stdout",
     "output_type": "stream",
     "text": [
      "       ts_code trade_date   open   high    low  close  pre_close  change  \\\n",
      "0    000002.SZ   20190614  28.01  28.29  27.78  27.93      27.83    0.10   \n",
      "1    000002.SZ   20190613  28.00  28.05  27.58  27.83      28.00   -0.17   \n",
      "2    000002.SZ   20190612  28.24  28.29  27.81  28.00      28.33   -0.33   \n",
      "3    000002.SZ   20190611  27.87  28.45  27.85  28.33      27.81    0.52   \n",
      "4    000002.SZ   20190610  27.29  28.05  27.17  27.81      27.12    0.69   \n",
      "5    000002.SZ   20190606  27.01  27.29  26.92  27.12      27.03    0.09   \n",
      "6    000002.SZ   20190605  26.64  27.28  26.63  27.03      26.30    0.73   \n",
      "7    000002.SZ   20190604  26.47  26.54  26.25  26.30      26.44   -0.14   \n",
      "8    000002.SZ   20190603  26.81  27.02  26.28  26.44      26.70   -0.26   \n",
      "9    000002.SZ   20190531  26.85  27.07  26.70  26.70      26.92   -0.22   \n",
      "10   000002.SZ   20190530  27.11  27.11  26.73  26.92      27.16   -0.24   \n",
      "11   000002.SZ   20190529  27.30  27.42  27.01  27.16      27.62   -0.46   \n",
      "12   000002.SZ   20190528  27.00  27.62  26.84  27.62      27.00    0.62   \n",
      "13   000002.SZ   20190527  26.79  27.08  26.30  27.00      26.82    0.18   \n",
      "14   000002.SZ   20190524  26.90  27.05  26.61  26.82      26.72    0.10   \n",
      "15   000002.SZ   20190523  27.20  27.28  26.66  26.72      27.36   -0.64   \n",
      "16   000002.SZ   20190522  27.40  27.59  27.10  27.36      27.52   -0.16   \n",
      "17   000002.SZ   20190521  27.28  27.79  27.20  27.52      27.26    0.26   \n",
      "18   000002.SZ   20190520  27.48  27.64  26.91  27.26      27.36   -0.10   \n",
      "19   000002.SZ   20190517  28.20  28.21  27.30  27.36      28.13   -0.77   \n",
      "20   000002.SZ   20190516  27.87  28.19  27.82  28.13      28.02    0.11   \n",
      "21   000002.SZ   20190515  27.85  28.27  27.80  28.02      27.60    0.42   \n",
      "22   000002.SZ   20190514  27.66  28.08  27.40  27.60      28.05   -0.45   \n",
      "23   000002.SZ   20190513  27.53  28.08  27.45  28.05      28.03    0.02   \n",
      "24   000002.SZ   20190510  27.27  28.09  26.83  28.03      27.02    1.01   \n",
      "25   000002.SZ   20190509  27.28  27.49  26.70  27.02      27.39   -0.37   \n",
      "26   000002.SZ   20190508  27.42  28.01  27.26  27.39      27.98   -0.59   \n",
      "27   000002.SZ   20190507  27.46  28.16  27.38  27.98      27.10    0.88   \n",
      "28   000002.SZ   20190506  28.00  28.31  26.70  27.10      28.88   -1.78   \n",
      "29   000002.SZ   20190430  29.05  29.16  28.38  28.88      29.35   -0.47   \n",
      "..         ...        ...    ...    ...    ...    ...        ...     ...   \n",
      "464  000002.SZ   20170718  23.81  24.01  23.16  23.55      22.89    0.66   \n",
      "465  000002.SZ   20170714  22.76  23.11  22.67  22.89      22.74    0.15   \n",
      "466  000002.SZ   20170713  23.18  23.59  22.71  22.74      23.70   -0.96   \n",
      "467  000002.SZ   20170712  23.92  24.85  23.47  23.70      23.03    0.67   \n",
      "468  000002.SZ   20170711  22.59  23.36  22.48  23.03      22.74    0.29   \n",
      "469  000002.SZ   20170710  22.71  23.62  22.54  22.74      22.95   -0.21   \n",
      "470  000002.SZ   20170707  22.59  23.35  22.36  22.95      22.54    0.41   \n",
      "471  000002.SZ   20170706  22.62  22.95  22.29  22.54      22.84   -0.30   \n",
      "472  000002.SZ   20170705  22.28  22.94  21.81  22.84      22.21    0.63   \n",
      "473  000002.SZ   20170704  22.87  23.20  21.89  22.21      22.87   -0.66   \n",
      "474  000002.SZ   20170703  23.04  23.45  22.67  22.87      23.24   -0.37   \n",
      "475  000002.SZ   20170630  23.27  23.63  22.93  23.24      23.42   -0.18   \n",
      "476  000002.SZ   20170629  23.42  23.66  22.86  23.42      23.27    0.15   \n",
      "477  000002.SZ   20170628  23.62  24.10  23.06  23.27      23.77   -0.50   \n",
      "478  000002.SZ   20170627  24.21  24.23  23.43  23.77      24.65   -0.88   \n",
      "479  000002.SZ   20170626  23.21  24.65  22.85  24.65      22.40    2.25   \n",
      "480  000002.SZ   20170623  20.33  22.40  20.29  22.40      20.36    2.04   \n",
      "481  000002.SZ   20170622  19.64  20.75  19.64  20.36      19.58    0.78   \n",
      "482  000002.SZ   20170621  19.87  19.95  19.45  19.58      19.57    0.01   \n",
      "483  000002.SZ   20170620  19.49  19.80  19.38  19.57      19.53    0.04   \n",
      "484  000002.SZ   20170619  19.49  19.61  19.45  19.53      19.49    0.04   \n",
      "485  000002.SZ   20170616  19.59  19.71  19.45  19.49      19.58   -0.09   \n",
      "486  000002.SZ   20170615  19.79  19.82  19.38  19.58      19.87   -0.29   \n",
      "487  000002.SZ   20170614  20.38  20.38  19.84  19.87      20.48   -0.61   \n",
      "488  000002.SZ   20170613  20.39  20.90  20.01  20.48      20.20    0.28   \n",
      "489  000002.SZ   20170612  19.99  21.22  19.99  20.20      19.42    0.78   \n",
      "490  000002.SZ   20170606  19.59  19.96  19.39  19.42      19.64   -0.22   \n",
      "491  000002.SZ   20170605  19.31  19.79  19.27  19.64      19.50    0.14   \n",
      "492  000002.SZ   20170602  19.62  19.82  19.34  19.50      19.63   -0.13   \n",
      "493  000002.SZ   20170601  19.64  19.89  19.48  19.63      19.79   -0.16   \n",
      "\n",
      "     pct_chg         vol       amount  \n",
      "0       0.36   311417.81   874904.945  \n",
      "1      -0.61   250431.08   695293.629  \n",
      "2      -1.16   269372.24   753190.180  \n",
      "3       1.87   449630.05  1271956.403  \n",
      "4       2.54   527547.02  1466767.218  \n",
      "5       0.33   333792.05   905462.519  \n",
      "6       2.78   576164.47  1553688.615  \n",
      "7      -0.53   203260.70   536198.035  \n",
      "8      -0.97   317567.97   842709.495  \n",
      "9      -0.82   200145.95   537589.152  \n",
      "10     -0.88   200526.45   539117.119  \n",
      "11     -1.67   214728.53   583352.716  \n",
      "12      2.30   409946.38  1117493.898  \n",
      "13      0.67   251967.80   674457.193  \n",
      "14      0.37   197829.77   530462.435  \n",
      "15     -2.34   270740.52   726962.131  \n",
      "16     -0.58   204648.14   560169.485  \n",
      "17      0.95   265603.89   731405.403  \n",
      "18     -0.37   255968.34   696860.585  \n",
      "19     -2.74   326650.96   902757.789  \n",
      "20      0.39   307265.23   861546.311  \n",
      "21      1.52   374566.59  1051240.514  \n",
      "22     -1.60   343951.88   955114.028  \n",
      "23      0.07   312444.54   868824.129  \n",
      "24      3.74   471861.16  1306268.299  \n",
      "25     -1.35   350943.63   948118.210  \n",
      "26     -2.11   353879.44   976776.033  \n",
      "27      3.25   503032.08  1399420.576  \n",
      "28     -6.16   700696.43  1919848.706  \n",
      "29     -1.60   503763.88  1449578.216  \n",
      "..       ...         ...          ...  \n",
      "464     2.88   791833.77  2004962.442  \n",
      "465     0.66   201797.31   495832.293  \n",
      "466    -4.05   833370.31  2064324.255  \n",
      "467     2.91   996895.18  2583415.791  \n",
      "468     1.28   475520.25  1179893.509  \n",
      "469    -0.92   609251.94  1510229.003  \n",
      "470     1.82   583982.56  1442448.492  \n",
      "471    -1.31   474769.22  1154892.663  \n",
      "472     2.84   747827.98  1802258.144  \n",
      "473    -2.89   740518.74  1798526.826  \n",
      "474    -1.59   452937.99  1115270.383  \n",
      "475    -0.77   595614.83  1487556.605  \n",
      "476     0.64   706958.31  1767701.602  \n",
      "477    -2.10   946320.09  2391062.420  \n",
      "478    -3.57  1198380.30  3059693.495  \n",
      "479    10.04  1711182.98  4396209.719  \n",
      "480    10.02  1251186.77  2905465.113  \n",
      "481     3.98   715929.06  1562559.166  \n",
      "482     0.05   194542.51   411153.770  \n",
      "483     0.20   236755.86   497795.185  \n",
      "484     0.21   118915.52   249680.284  \n",
      "485    -0.46   139298.22   292396.354  \n",
      "486    -1.46   233208.62   489523.684  \n",
      "487    -2.98   370107.35   798534.301  \n",
      "488     1.39   471001.92  1040218.312  \n",
      "489     4.02   944276.46  2080848.959  \n",
      "490    -1.12   492775.87  1044876.412  \n",
      "491     0.72   285544.45   602173.927  \n",
      "492    -0.66   235397.43   493992.185  \n",
      "493    -0.81   266365.05   562162.013  \n",
      "\n",
      "[494 rows x 11 columns]\n"
     ]
    }
   ],
   "source": [
    "import tushare as ts\n",
    "\n",
    "# 设置tushare pro的token并获取连接\n",
    "ts.set_token('d3fdbde82434cd6d7897550852136449f9fcba912e3eacb47b004600')\n",
    "pro = ts.pro_api()\n",
    "\n",
    "# 股票日线\n",
    "# df = ts.pro_bar(ts_code='000002.SZ', adj='hfq', start_date='20170601', end_date='20190615')\n",
    "df = ts.pro_bar(ts_code='000002.SZ', adj='qfq',  start_date='20170601', end_date='20190615')\n",
    "\n",
    "#指数日线\n",
    "# df = pro.index_daily(ts_code='000001', start_date='20180101', end_date='20181011')\n",
    "\n",
    "\n",
    "print(df)"
   ]
  },
  {
   "cell_type": "code",
   "execution_count": 45,
   "metadata": {},
   "outputs": [
    {
     "name": "stdout",
     "output_type": "stream",
     "text": [
      "23\n",
      "0.794795320853342\n"
     ]
    }
   ],
   "source": [
    "rest_amount =72345.67\n",
    "\n",
    "buy_price = 25\n",
    "\n",
    "\n",
    "print(int((rest_amount * 0.8 ) /(25*100)))\n",
    "\n",
    "print(float(23*25*100)/rest_amount)"
   ]
  },
  {
   "cell_type": "code",
   "execution_count": 61,
   "metadata": {},
   "outputs": [
    {
     "name": "stdout",
     "output_type": "stream",
     "text": [
      "(Decimal('100000.00'), Decimal('0.00'), Decimal('100000.00'), '2019-01-01')\n",
      "(Decimal('100000.00'), Decimal('0.00'), Decimal('100000.00'), '2019-01-07')\n"
     ]
    },
    {
     "data": {
      "text/plain": [
       "[<matplotlib.lines.Line2D at 0xd225410>]"
      ]
     },
     "execution_count": 61,
     "metadata": {},
     "output_type": "execute_result"
    },
    {
     "data": {
      "image/png": "[encoded data removed]",
      "text/plain": [
       "<Figure size 432x288 with 1 Axes>"
      ]
     },
     "metadata": {
      "needs_background": "light"
     },
     "output_type": "display_data"
    }
   ],
   "source": [
    "import pymysql\n",
    "from pylab import *\n",
    "db = pymysql.connect(host='127.0.0.1', user='root', passwd='admin', db='stock', charset='utf8')\n",
    "cursor = db.cursor()\n",
    "\n",
    "query_capital_sql = 'SELECT * FROM my_capital2 ORDER BY state_dt'\n",
    "cursor.execute(query_capital_sql)\n",
    "capital_result = cursor.fetchall()\n",
    "print(capital_result[0])\n",
    "capital_result = capital_result[1:]\n",
    "\n",
    "print(capital_result[0])\n",
    "\n",
    "\n",
    "x_date = [x[3] for x in capital_result]\n",
    "\n",
    "init_capital = float(capital_result[0][0])\n",
    "y_profit = [float(x[0])/init_capital for x in capital_result]\n",
    "\n",
    "y_basic = [1 for x in capital_result]\n",
    "\n",
    "plt.plot(x_date, y_profit, color='red')\n",
    "plt.plot(x_date, y_basic, color='blue')\n",
    "    plt.legend([\"my strategy\", \"basic\"])\n",
    "\n"
   ]
  },
  {
   "cell_type": "code",
   "execution_count": null,
   "metadata": {},
   "outputs": [],
   "source": []
  },
  {
   "cell_type": "code",
   "execution_count": null,
   "metadata": {},
   "outputs": [],
   "source": []
  }
 ],
 "metadata": {
  "kernelspec": {
   "display_name": "Python 3",
   "language": "python",
   "name": "python3"
  },
  "language_info": {
   "codemirror_mode": {
    "name": "ipython",
    "version": 3
   },
   "file_extension": ".py",
   "mimetype": "text/x-python",
   "name": "python",
   "nbconvert_exporter": "python",
   "pygments_lexer": "ipython3",
   "version": "3.7.3"
  }
 },
 "nbformat": 4,
 "nbformat_minor": 2
}
