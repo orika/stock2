{
 "cells": [
  {
   "cell_type": "code",
   "execution_count": 15,
   "metadata": {},
   "outputs": [
    {
     "name": "stdout",
     "output_type": "stream",
     "text": [
      "              ts_code   open   high    low  close  pre_close  change  pct_chg  \\\n",
      "trade_date                                                                      \n",
      "20190515    000002.SZ  27.85  28.27  27.80  28.02      27.60    0.42     1.52   \n",
      "20190514    000002.SZ  27.66  28.08  27.40  27.60      28.05   -0.45    -1.60   \n",
      "20190513    000002.SZ  27.53  28.08  27.45  28.05      28.03    0.02     0.07   \n",
      "20190510    000002.SZ  27.27  28.09  26.83  28.03      27.02    1.01     3.74   \n",
      "20190509    000002.SZ  27.28  27.49  26.70  27.02      27.39   -0.37    -1.35   \n",
      "20190508    000002.SZ  27.42  28.01  27.26  27.39      27.98   -0.59    -2.11   \n",
      "20190507    000002.SZ  27.46  28.16  27.38  27.98      27.10    0.88     3.25   \n",
      "20190506    000002.SZ  28.00  28.31  26.70  27.10      28.88   -1.78    -6.16   \n",
      "\n",
      "                  vol       amount  \n",
      "trade_date                          \n",
      "20190515    374566.59  1051240.514  \n",
      "20190514    343951.88   955114.028  \n",
      "20190513    312444.54   868824.129  \n",
      "20190510    471861.16  1306268.299  \n",
      "20190509    350943.63   948118.210  \n",
      "20190508    353879.44   976776.033  \n",
      "20190507    503032.08  1399420.576  \n",
      "20190506    700696.43  1919848.706  \n",
      "              ts_code   open   high    low\n",
      "trade_date                                \n",
      "20190515    000002.SZ  27.85  28.27  27.80\n",
      "20190514    000002.SZ  27.66  28.08  27.40\n",
      "20190513    000002.SZ  27.53  28.08  27.45\n",
      "20190510    000002.SZ  27.27  28.09  26.83\n",
      "20190509    000002.SZ  27.28  27.49  26.70\n",
      "20190508    000002.SZ  27.42  28.01  27.26\n",
      "20190507    000002.SZ  27.46  28.16  27.38\n",
      "20190506    000002.SZ  28.00  28.31  26.70\n"
     ]
    }
   ],
   "source": [
    "import tushare as ts\n",
    "import pandas as pd\n",
    "import matplotlib.pyplot as plt\n",
    "from sklearn import datasets,linear_model\n",
    "import numpy as np\n",
    "\n",
    "# 设置tushare pro的token并获取连接\n",
    "ts.set_token('d3fdbde82434cd6d7897550852136449f9fcba912e3eacb47b004600')\n",
    "pro = ts.pro_api()\n",
    "\n",
    "# 股票日线\n",
    "# df = ts.pro_bar(ts_code='000002.SZ', adj='hfq', start_date='20170601', end_date='20190615')\n",
    "df = ts.pro_bar(ts_code='000002.SZ', adj='qfq',  start_date='20190501', end_date='20190515')\n",
    "\n",
    "\n",
    "df.set_index(['trade_date'],inplace=True)\n",
    "\n",
    "print(df)\n",
    "\n",
    "print(df.iloc[:,:4])\n",
    "\n",
    "\n",
    "cur = df[['pct_chg']]\n",
    "\n",
    "pre = df[['pct_chg']].shift()\n",
    "\n",
    "# print(cur)\n",
    "# print(pre)\n",
    "\n",
    "# print(cur - pre)"
   ]
  },
  {
   "cell_type": "code",
   "execution_count": null,
   "metadata": {},
   "outputs": [],
   "source": []
  }
 ],
 "metadata": {
  "kernelspec": {
   "display_name": "Python 3",
   "language": "python",
   "name": "python3"
  },
  "language_info": {
   "codemirror_mode": {
    "name": "ipython",
    "version": 3
   },
   "file_extension": ".py",
   "mimetype": "text/x-python",
   "name": "python",
   "nbconvert_exporter": "python",
   "pygments_lexer": "ipython3",
   "version": "3.7.3"
  }
 },
 "nbformat": 4,
 "nbformat_minor": 2
}
