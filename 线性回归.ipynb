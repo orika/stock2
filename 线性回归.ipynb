{
 "cells": [
  {
   "cell_type": "code",
   "execution_count": 1,
   "metadata": {},
   "outputs": [
    {
     "name": "stdout",
     "output_type": "stream",
     "text": [
      "0.015218993244098922\n",
      "[[0.00565746]]\n",
      "[-0.22309482]\n"
     ]
    },
    {
     "data": {
      "text/plain": [
       "<Figure size 640x480 with 1 Axes>"
      ]
     },
     "metadata": {},
     "output_type": "display_data"
    }
   ],
   "source": [
    "import tushare as ts\n",
    "import matplotlib.pyplot as plt\n",
    "from sklearn import datasets,linear_model\n",
    "import numpy as np\n",
    "\n",
    "# 设置tushare pro的token并获取连接\n",
    "ts.set_token('d3fdbde82434cd6d7897550852136449f9fcba912e3eacb47b004600')\n",
    "pro = ts.pro_api()\n",
    "\n",
    "# 股票日线\n",
    "# df = ts.pro_bar(ts_code='000002.SZ', adj='hfq', start_date='20170601', end_date='20190615')\n",
    "df = ts.pro_bar(ts_code='000002.SZ', adj='qfq',  start_date='20190501', end_date='20190615')\n",
    "\n",
    "#指数日线\n",
    "# df = pro.index_daily(ts_code='000001', start_date='20180101', end_date='20181011')\n",
    "\n",
    "# print(df)\n",
    "\n",
    "\n",
    "# plt.scatter(list(df['trade_date'])[::-1], list(df['open'])[::-1])\n",
    "# plt.show()\n",
    "\n",
    "\n",
    "change_list = np.array([float(i) for i in list(df['change'])[::-1]]).reshape(-1,1)\n",
    "vol_list = np.array([float(i/10000) for i in list(df['vol'])[::-1]]).reshape(-1,1)\n",
    "\n",
    "# print(change_list)\n",
    "# print(vol_list)\n",
    "\n",
    "lr = linear_model.LinearRegression()\n",
    "\n",
    "lr.fit(vol_list, change_list)\n",
    "\n",
    "print(lr.score(vol_list, change_list))\n",
    "print(lr.coef_)\n",
    "print(lr.intercept_)\n",
    "\n",
    "f = lr.coef_[0] * vol_list + lr.intercept_\n",
    "\n",
    "plt.scatter(vol_list, change_list)\n",
    "plt.plot(vol_list, f, color='r', label='predit')\n",
    "plt.show()\n",
    "\n",
    "\n",
    "\n"
   ]
  },
  {
   "cell_type": "code",
   "execution_count": 40,
   "metadata": {},
   "outputs": [
    {
     "name": "stdout",
     "output_type": "stream",
     "text": [
      "[[100.]\n",
      " [ 50.]\n",
      " [100.]\n",
      " [100.]\n",
      " [ 50.]\n",
      " [ 80.]\n",
      " [ 75.]\n",
      " [ 65.]\n",
      " [ 90.]\n",
      " [ 90.]]\n",
      "score=0.6640713116245224\n",
      "coefficients(b1,b2...): [0.06782609]\n",
      "intercept(b0): 1.2739130434782604\n"
     ]
    },
    {
     "data": {
      "image/png": "[encoded data removed]",
      "text/plain": [
       "<Figure size 432x288 with 1 Axes>"
      ]
     },
     "metadata": {
      "needs_background": "light"
     },
     "output_type": "display_data"
    }
   ],
   "source": [
    "import numpy as np\n",
    "import matplotlib.pyplot as plt\n",
    "from sklearn import datasets,linear_model\n",
    "\n",
    "# 定义训练数据\n",
    "x = np.array([[100,4,9.3],[50,3,4.8],[100,4,8.9],\n",
    "              [100,2,6.5],[50,2,4.2],[80,2,6.2],\n",
    "              [75,3,7.4],[65,4,6],[90,3,7.6],[90,2,6.1]])\n",
    "# print(x)\n",
    "# X = x[:,:-1]\n",
    "Y = x[:,-1]\n",
    "# print(X,Y)\n",
    "\n",
    "\n",
    "# # 建立模型\n",
    "# regr = linear_model.LinearRegression()\n",
    "\n",
    "# # 训练数据\n",
    "# regr.fit(X,Y)\n",
    "\n",
    "# # 拿到相关系数\n",
    "# print('coefficients(b1,b2...):',regr.coef_)\n",
    "# print('intercept(b0):',regr.intercept_)\n",
    "\n",
    "# # 评估模型\n",
    "# print(\"score0=\" + str(regr.score(X, Y)))\n",
    "\n",
    "# # 预测\n",
    "# x_test = np.array([[102,6],[100,4]])\n",
    "# y_test = regr.predict(x_test)\n",
    "# print(y_test)\n",
    "\n",
    "\n",
    "\n",
    "X1 = x[:,:1]\n",
    "print(X1)\n",
    "# print(Y)\n",
    "\n",
    "regr = linear_model.LinearRegression()\n",
    "regr.fit(X1,Y)\n",
    "print(\"score=\" + str(regr.score(X1, Y)))\n",
    "print('coefficients(b1,b2...):',regr.coef_)\n",
    "print('intercept(b0):',regr.intercept_)\n",
    "\n",
    "y_line = regr.coef_[0] * X1 + regr.intercept_\n",
    "\n",
    "plt.scatter(X1,Y)\n",
    "plt.plot(x, y_line, color='r')\n",
    "\n",
    "plt.show()\n",
    "\n",
    "\n",
    "#建立模型\n",
    "\n",
    "#lrModel = sklearn.linear_model.LinearRegression()\n",
    "#训练模型\n",
    "#lrModel.fit(x,y)\n",
    "\n",
    "# 模型评估\n",
    "# lrModel.score(x,y)\n",
    "\n",
    "# 模型预测\n",
    "# lrModel.predict(x)"
   ]
  },
  {
   "cell_type": "code",
   "execution_count": 25,
   "metadata": {},
   "outputs": [
    {
     "data": {
      "text/plain": [
       "0.6640713116245224"
      ]
     },
     "execution_count": 25,
     "metadata": {},
     "output_type": "execute_result"
    }
   ],
   "source": [
    "regr.score(X1, Y)"
   ]
  },
  {
   "cell_type": "code",
   "execution_count": null,
   "metadata": {},
   "outputs": [],
   "source": []
  }
 ],
 "metadata": {
  "kernelspec": {
   "display_name": "Python 3",
   "language": "python",
   "name": "python3"
  },
  "language_info": {
   "codemirror_mode": {
    "name": "ipython",
    "version": 3
   },
   "file_extension": ".py",
   "mimetype": "text/x-python",
   "name": "python",
   "nbconvert_exporter": "python",
   "pygments_lexer": "ipython3",
   "version": "3.7.3"
  }
 },
 "nbformat": 4,
 "nbformat_minor": 2
}
